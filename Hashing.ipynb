{
 "cells": [
  {
   "cell_type": "code",
   "execution_count": 16,
   "id": "ea839ccb",
   "metadata": {},
   "outputs": [],
   "source": [
    "import hashlib\n",
    "import bcrypt"
   ]
  },
  {
   "cell_type": "code",
   "execution_count": 2,
   "id": "2e20e3af",
   "metadata": {},
   "outputs": [
    {
     "data": {
      "text/plain": [
       "{'blake2b',\n",
       " 'blake2s',\n",
       " 'md5',\n",
       " 'md5-sha1',\n",
       " 'ripemd160',\n",
       " 'sha1',\n",
       " 'sha224',\n",
       " 'sha256',\n",
       " 'sha384',\n",
       " 'sha3_224',\n",
       " 'sha3_256',\n",
       " 'sha3_384',\n",
       " 'sha3_512',\n",
       " 'sha512',\n",
       " 'sha512_224',\n",
       " 'sha512_256',\n",
       " 'shake_128',\n",
       " 'shake_256',\n",
       " 'sm3'}"
      ]
     },
     "execution_count": 2,
     "metadata": {},
     "output_type": "execute_result"
    }
   ],
   "source": [
    "hashlib.algorithms_available"
   ]
  },
  {
   "cell_type": "code",
   "execution_count": 3,
   "id": "d0259c46",
   "metadata": {},
   "outputs": [
    {
     "data": {
      "text/plain": [
       "{'blake2b',\n",
       " 'blake2s',\n",
       " 'md5',\n",
       " 'sha1',\n",
       " 'sha224',\n",
       " 'sha256',\n",
       " 'sha384',\n",
       " 'sha3_224',\n",
       " 'sha3_256',\n",
       " 'sha3_384',\n",
       " 'sha3_512',\n",
       " 'sha512',\n",
       " 'shake_128',\n",
       " 'shake_256'}"
      ]
     },
     "execution_count": 3,
     "metadata": {},
     "output_type": "execute_result"
    }
   ],
   "source": [
    "hashlib.algorithms_guaranteed"
   ]
  },
  {
   "cell_type": "code",
   "execution_count": 4,
   "id": "b6e8b091",
   "metadata": {},
   "outputs": [],
   "source": [
    "h=hashlib.blake2b()"
   ]
  },
  {
   "cell_type": "code",
   "execution_count": 6,
   "id": "200e852a",
   "metadata": {},
   "outputs": [],
   "source": [
    "h.update(b'hash')"
   ]
  },
  {
   "cell_type": "code",
   "execution_count": 7,
   "id": "3f01b084",
   "metadata": {},
   "outputs": [
    {
     "data": {
      "text/plain": [
       "b'\\x03\\xb9\\xd2\\x00\\n\\x861>\\xf33*\\x99aA\\x8b\\xe6\\x87k\\xab\\n\\xc5J%H{\\xe5\\x9f\\x92%\\xc1\\x08\\xb47\\x92\\x11k\\xe6<\\x99Q.\\x16\\x01}l1O\\xc0\\xfb\\x0f\\xa4\\xa8\\x8e\\xf6\\x19\\x83;\\x0e\\xf9\\x8a0y\\xfc0'"
      ]
     },
     "execution_count": 7,
     "metadata": {},
     "output_type": "execute_result"
    }
   ],
   "source": [
    "h.digest()"
   ]
  },
  {
   "cell_type": "code",
   "execution_count": 8,
   "id": "497db7a7",
   "metadata": {},
   "outputs": [
    {
     "data": {
      "text/plain": [
       "64"
      ]
     },
     "execution_count": 8,
     "metadata": {},
     "output_type": "execute_result"
    }
   ],
   "source": [
    "h.digest_size"
   ]
  },
  {
   "cell_type": "code",
   "execution_count": 9,
   "id": "3bf0b6dd",
   "metadata": {},
   "outputs": [
    {
     "data": {
      "text/plain": [
       "'blake2b'"
      ]
     },
     "execution_count": 9,
     "metadata": {},
     "output_type": "execute_result"
    }
   ],
   "source": [
    "h.name"
   ]
  },
  {
   "cell_type": "code",
   "execution_count": 15,
   "id": "c6380725",
   "metadata": {},
   "outputs": [
    {
     "data": {
      "text/plain": [
       "'eb201af5aaf0d60629d3d2a61e466cfc0fedb517add831ecac5235e1daa963d6'"
      ]
     },
     "execution_count": 15,
     "metadata": {},
     "output_type": "execute_result"
    }
   ],
   "source": [
    "hashlib.sha256(b'hash me').hexdigest()"
   ]
  },
  {
   "cell_type": "code",
   "execution_count": 13,
   "id": "c5552498",
   "metadata": {},
   "outputs": [
    {
     "data": {
      "text/plain": [
       "'942e9f23a5e4229b8fab1b313e8faae5'"
      ]
     },
     "execution_count": 13,
     "metadata": {},
     "output_type": "execute_result"
    }
   ],
   "source": [
    "hashlib.shake_256(b'hash me').hexdigest(16)"
   ]
  },
  {
   "cell_type": "code",
   "execution_count": 17,
   "id": "7c781d84",
   "metadata": {},
   "outputs": [],
   "source": [
    "password=b\"Dharshini\""
   ]
  },
  {
   "cell_type": "code",
   "execution_count": 18,
   "id": "884bd9c9",
   "metadata": {},
   "outputs": [],
   "source": [
    "hash=bcrypt.hashpw(password,bcrypt.gensalt())"
   ]
  },
  {
   "cell_type": "code",
   "execution_count": 19,
   "id": "c6168ec2",
   "metadata": {},
   "outputs": [
    {
     "data": {
      "text/plain": [
       "b'$2b$12$eu0wDxhnnop6ryvJW7VLfuKQAmh9uN9SHxqc1bKC.YCkzfOypl95a'"
      ]
     },
     "execution_count": 19,
     "metadata": {},
     "output_type": "execute_result"
    }
   ],
   "source": [
    "hash"
   ]
  },
  {
   "cell_type": "code",
   "execution_count": null,
   "id": "34328d13",
   "metadata": {},
   "outputs": [],
   "source": []
  }
 ],
 "metadata": {
  "kernelspec": {
   "display_name": "Python 3 (ipykernel)",
   "language": "python",
   "name": "python3"
  },
  "language_info": {
   "codemirror_mode": {
    "name": "ipython",
    "version": 3
   },
   "file_extension": ".py",
   "mimetype": "text/x-python",
   "name": "python",
   "nbconvert_exporter": "python",
   "pygments_lexer": "ipython3",
   "version": "3.11.5"
  }
 },
 "nbformat": 4,
 "nbformat_minor": 5
}
